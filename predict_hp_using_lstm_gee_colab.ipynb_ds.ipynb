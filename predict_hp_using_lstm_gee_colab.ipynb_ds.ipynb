{
  "nbformat": 4,
  "nbformat_minor": 0,
  "metadata": {
    "colab": {
      "provenance": [],
      "authorship_tag": "ABX9TyPr3lZE2MsRifqx0z2y+Bbn",
      "include_colab_link": true
    },
    "kernelspec": {
      "name": "python3",
      "display_name": "Python 3"
    },
    "language_info": {
      "name": "python"
    }
  },
  "cells": [
    {
      "cell_type": "markdown",
      "metadata": {
        "id": "view-in-github",
        "colab_type": "text"
      },
      "source": [
        "<a href=\"https://colab.research.google.com/github/dookda/cmu_udfire_gee/blob/main/predict_hp_using_lstm_gee_colab.ipynb_ds.ipynb\" target=\"_parent\"><img src=\"https://colab.research.google.com/assets/colab-badge.svg\" alt=\"Open In Colab\"/></a>"
      ]
    },
    {
      "cell_type": "code",
      "execution_count": null,
      "metadata": {
        "id": "PFmWf1krNU5a"
      },
      "outputs": [],
      "source": [
        "!pip install earthengine-api geemap folium tensorflow scikit-learn\n",
        "\n",
        "import ee\n",
        "import geemap\n",
        "import folium\n",
        "import numpy as np\n",
        "import pandas as pd\n",
        "import tensorflow as tf\n",
        "from tensorflow.keras.models import Sequential\n",
        "from tensorflow.keras.layers import Conv2D, MaxPooling2D, LSTM, Dense, Flatten, TimeDistributed, Reshape\n",
        "from sklearn.metrics import accuracy_score, precision_score, recall_score, f1_score, confusion_matrix\n",
        "import matplotlib.pyplot as plt\n",
        "from datetime import datetime, timedelta"
      ]
    },
    {
      "cell_type": "code",
      "source": [
        "# เริ่มต้นใช้งาน GEE\n",
        "ee.Authenticate()\n",
        "try:\n",
        "    ee.Initialize(project=\"ee-sakda-451407\")\n",
        "except Exception as e:\n",
        "    ee.Authenticate()\n",
        "    ee.Initialize(project=\"ee-sakda-451407\")"
      ],
      "metadata": {
        "colab": {
          "base_uri": "https://localhost:8080/",
          "height": 17
        },
        "id": "0JSmqzSeNou8",
        "outputId": "8d6dfa2d-8ffb-4e38-badb-e88b9d52836d"
      },
      "execution_count": 2,
      "outputs": [
        {
          "output_type": "display_data",
          "data": {
            "text/plain": [
              "<IPython.core.display.HTML object>"
            ],
            "text/html": [
              "\n",
              "            <style>\n",
              "                .geemap-dark {\n",
              "                    --jp-widgets-color: white;\n",
              "                    --jp-widgets-label-color: white;\n",
              "                    --jp-ui-font-color1: white;\n",
              "                    --jp-layout-color2: #454545;\n",
              "                    background-color: #383838;\n",
              "                }\n",
              "\n",
              "                .geemap-dark .jupyter-button {\n",
              "                    --jp-layout-color3: #383838;\n",
              "                }\n",
              "\n",
              "                .geemap-colab {\n",
              "                    background-color: var(--colab-primary-surface-color, white);\n",
              "                }\n",
              "\n",
              "                .geemap-colab .jupyter-button {\n",
              "                    --jp-layout-color3: var(--colab-primary-surface-color, white);\n",
              "                }\n",
              "            </style>\n",
              "            "
            ]
          },
          "metadata": {}
        }
      ]
    },
    {
      "cell_type": "code",
      "source": [
        "# กำหนดพื้นที่ศึกษา (ตำบลสุเทพ)\n",
        "roi = ee.Geometry.Rectangle([98.9, 18.7, 99.0, 18.8])  # ควรปรับค่าพิกัดให้ถูกต้อง\n",
        "\n",
        "# กำหนดช่วงวันที่\n",
        "start_date = '2020-01-01'\n",
        "end_date = '2024-12-31'\n",
        "\n",
        "# ดึงข้อมูล MODIS Hotspot (Thermal Anomalies)\n",
        "modis = ee.ImageCollection('MODIS/061/MOD14A1') \\\n",
        "    .filterDate(start_date, end_date) \\\n",
        "    .filterBounds(roi)\n",
        "\n",
        "# ดึงข้อมูลคุณลักษณะอื่นๆ ที่เกี่ยวข้อง\n",
        "# เช่น อุณหภูมิพื้นผิว, ดัชนีพืชพรรณ ฯลฯ\n",
        "modis_veg = ee.ImageCollection('MODIS/061/MOD13A2') \\\n",
        "    .filterDate(start_date, end_date) \\\n",
        "    .filterBounds(roi)\n",
        "\n",
        "# สร้างฟีเจอร์สำหรับการทำนาย\n",
        "def add_date_info(image):\n",
        "    date = ee.Date(image.get('system:time_start'))\n",
        "    doy = date.getRelative('day', 'year')\n",
        "    week = date.getRelative('week', 'year')\n",
        "    return image.addBands(ee.Image.constant(doy).rename('doy').toInt()) \\\n",
        "               .addBands(ee.Image.constant(week).rename('week').toInt())\n",
        "\n",
        "# เพิ่มข้อมูลวันและสัปดาห์\n",
        "modis = modis.map(add_date_info)\n",
        "modis_veg = modis_veg.map(add_date_info)\n",
        "\n",
        "# รวมข้อมูลทั้งหมด\n",
        "def combine_collections(img):\n",
        "    # ดึงข้อมูล vegetation ที่ใกล้เคียงวันที่ที่สุด\n",
        "    veg_img = modis_veg.filterDate(img.date(), img.date().advance(1, 'day')).first()\n",
        "\n",
        "    # ตรวจสอบว่ามีข้อมูล vegetation หรือไม่\n",
        "    veg_img = ee.Algorithms.If(\n",
        "        ee.Image(veg_img).bandNames().size().gt(0),\n",
        "        veg_img,\n",
        "        ee.Image(0).rename('NDVI').addBands(ee.Image(0).rename('EVI'))\n",
        "    )\n",
        "\n",
        "    return img.addBands(ee.Image(veg_img).select(['NDVI', 'EVI']))\n",
        "\n",
        "collection = modis.map(combine_collections)\n",
        "\n",
        "# สร้างข้อมูลรายสัปดาห์\n",
        "def create_weekly_composites(start_date, weeks):\n",
        "    weekly_data = []\n",
        "    for i in range(weeks):\n",
        "        start = start_date.advance(i, 'week')\n",
        "        end = start.advance(1, 'week')\n",
        "\n",
        "        # ตรวจสอบว่ามีข้อมูลในช่วงเวลานี้หรือไม่\n",
        "        weekly_coll = collection.filterDate(start, end)\n",
        "        weekly_composite = ee.Algorithms.If(\n",
        "            weekly_coll.size().gt(0),\n",
        "            weekly_coll.mean(),\n",
        "            ee.Image(0).rename('MaxFRP')\n",
        "                .addBands(ee.Image(0).rename('FireMask'))\n",
        "                .addBands(ee.Image(0).rename('NDVI'))\n",
        "                .addBands(ee.Image(0).rename('EVI'))\n",
        "                .addBands(ee.Image(i % 52).rename('week').toInt())\n",
        "                .addBands(ee.Image(i % 365).rename('doy').toInt())\n",
        "        )\n",
        "\n",
        "        weekly_composite = ee.Image(weekly_composite).set('week_start', start.millis(), 'week_number', i)\n",
        "        weekly_data.append(weekly_composite)\n",
        "\n",
        "    return ee.ImageCollection(weekly_data)\n",
        "\n",
        "start_date_ee = ee.Date(start_date)\n",
        "total_weeks = 260  # 5 ปี * 52 สัปดาห์\n",
        "weekly_collection = create_weekly_composites(start_date_ee, total_weeks)"
      ],
      "metadata": {
        "colab": {
          "base_uri": "https://localhost:8080/",
          "height": 17
        },
        "id": "AmBVt9CyNXoc",
        "outputId": "03bc4a8a-5e49-4e8a-c7c4-514c515a9c20"
      },
      "execution_count": 3,
      "outputs": [
        {
          "output_type": "display_data",
          "data": {
            "text/plain": [
              "<IPython.core.display.HTML object>"
            ],
            "text/html": [
              "\n",
              "            <style>\n",
              "                .geemap-dark {\n",
              "                    --jp-widgets-color: white;\n",
              "                    --jp-widgets-label-color: white;\n",
              "                    --jp-ui-font-color1: white;\n",
              "                    --jp-layout-color2: #454545;\n",
              "                    background-color: #383838;\n",
              "                }\n",
              "\n",
              "                .geemap-dark .jupyter-button {\n",
              "                    --jp-layout-color3: #383838;\n",
              "                }\n",
              "\n",
              "                .geemap-colab {\n",
              "                    background-color: var(--colab-primary-surface-color, white);\n",
              "                }\n",
              "\n",
              "                .geemap-colab .jupyter-button {\n",
              "                    --jp-layout-color3: var(--colab-primary-surface-color, white);\n",
              "                }\n",
              "            </style>\n",
              "            "
            ]
          },
          "metadata": {}
        }
      ]
    },
    {
      "cell_type": "code",
      "source": [
        "# แปลงข้อมูลเป็น array\n",
        "def image_to_array(image, region, scale):\n",
        "    try:\n",
        "        # ตรวจสอบว่า image เป็น valid\n",
        "        image = ee.Algorithms.If(\n",
        "            ee.Image(image).bandNames().size().gt(0),\n",
        "            image,\n",
        "            ee.Image(0).rename('MaxFRP')\n",
        "                .addBands(ee.Image(0).rename('FireMask'))\n",
        "                .addBands(ee.Image(0).rename('NDVI'))\n",
        "                .addBands(ee.Image(0).rename('EVI'))\n",
        "                .addBands(ee.Image(0).rename('week').toInt())\n",
        "                .addBands(ee.Image(0).rename('doy').toInt())\n",
        "        )\n",
        "\n",
        "        arr = ee.Image(image).sampleRectangle(region=region, defaultValue=0)\n",
        "        return arr\n",
        "    except Exception as e:\n",
        "        print(f\"Error: {e}\")\n",
        "        return None\n",
        "\n",
        "# ดึงข้อมูลเป็น numpy array\n",
        "scale = 1000  # 1km resolution\n",
        "bands = ['MaxFRP', 'FireMask', 'NDVI', 'EVI', 'doy', 'week']\n",
        "\n",
        "# สร้างข้อมูล training\n",
        "training_data = []\n",
        "labels = []\n",
        "\n",
        "for week in range(total_weeks - 1):  # ลบ 1 เพราะเราจะใช้ทำนายสัปดาห์ถัดไป\n",
        "    current_week_img = weekly_collection.filter(ee.Filter.eq('week_number', week)).first()\n",
        "    next_week_img = weekly_collection.filter(ee.Filter.eq('week_number', week + 1)).first()\n",
        "\n",
        "    # ดึงข้อมูล hotspot ของสัปดาห์ถัดไป (เป็น label)\n",
        "    hotspot_next = ee.Image(next_week_img).select('MaxFRP').gt(0)  # 1 มี hotspot, 0 ไม่มี\n",
        "\n",
        "    # ดึงข้อมูล features ของสัปดาห์ปัจจุบัน\n",
        "    features = ee.Image(current_week_img).select(bands)\n",
        "\n",
        "    # แปลงเป็น array\n",
        "    features_arr = image_to_array(features, roi, scale)\n",
        "    hotspot_arr = image_to_array(hotspot_next, roi, scale)\n",
        "\n",
        "    if features_arr and hotspot_arr:\n",
        "        # เนื่องจากพื้นที่อาจมีขนาดเล็ก เราอาจต้องปรับขนาดข้อมูล\n",
        "        training_data.append(features_arr.getInfo())\n",
        "        labels.append(hotspot_arr.getInfo())\n",
        "\n",
        "# แปลงเป็น numpy array\n",
        "X = np.array(training_data)\n",
        "y = np.array(labels)\n",
        "\n",
        "# ปรับขนาดข้อมูลให้เหมาะสมกับแบบจำลอง\n",
        "def create_sequences(data, labels, time_steps=4):\n",
        "    X_seq, y_seq = [], []\n",
        "    for i in range(time_steps, len(data)):\n",
        "        X_seq.append(data[i-time_steps:i])\n",
        "        y_seq.append(labels[i])\n",
        "    return np.array(X_seq), np.array(y_seq)\n",
        "\n",
        "time_steps = 4  # ใช้ข้อมูล 4 สัปดาห์ย้อนหลังเพื่อทำนายสัปดาห์ถัดไป\n",
        "X_seq, y_seq = create_sequences(X, y, time_steps)\n",
        "\n",
        "# แบ่งข้อมูลเป็นชุดฝึกและชุดทดสอบ\n",
        "split_ratio = 0.8\n",
        "split_idx = int(len(X_seq) * split_ratio)\n",
        "\n",
        "X_train, X_test = X_seq[:split_idx], X_seq[split_idx:]\n",
        "y_train, y_test = y_seq[:split_idx], y_seq[split_idx:]"
      ],
      "metadata": {
        "colab": {
          "base_uri": "https://localhost:8080/",
          "height": 490
        },
        "id": "vromQw-RNZhR",
        "outputId": "e4439dd3-430d-43f8-b011-a325ee2f4582"
      },
      "execution_count": 4,
      "outputs": [
        {
          "output_type": "display_data",
          "data": {
            "text/plain": [
              "<IPython.core.display.HTML object>"
            ],
            "text/html": [
              "\n",
              "            <style>\n",
              "                .geemap-dark {\n",
              "                    --jp-widgets-color: white;\n",
              "                    --jp-widgets-label-color: white;\n",
              "                    --jp-ui-font-color1: white;\n",
              "                    --jp-layout-color2: #454545;\n",
              "                    background-color: #383838;\n",
              "                }\n",
              "\n",
              "                .geemap-dark .jupyter-button {\n",
              "                    --jp-layout-color3: #383838;\n",
              "                }\n",
              "\n",
              "                .geemap-colab {\n",
              "                    background-color: var(--colab-primary-surface-color, white);\n",
              "                }\n",
              "\n",
              "                .geemap-colab .jupyter-button {\n",
              "                    --jp-layout-color3: var(--colab-primary-surface-color, white);\n",
              "                }\n",
              "            </style>\n",
              "            "
            ]
          },
          "metadata": {}
        },
        {
          "output_type": "error",
          "ename": "EEException",
          "evalue": "reduce.mean: Error in map(ID=2022_02_09):\nImage.select: Parameter 'input' is required and may not be null.",
          "traceback": [
            "\u001b[0;31m---------------------------------------------------------------------------\u001b[0m",
            "\u001b[0;31mHttpError\u001b[0m                                 Traceback (most recent call last)",
            "\u001b[0;32m/usr/local/lib/python3.12/dist-packages/ee/data.py\u001b[0m in \u001b[0;36m_execute_cloud_call\u001b[0;34m(call, num_retries)\u001b[0m\n\u001b[1;32m    407\u001b[0m   \u001b[0;32mtry\u001b[0m\u001b[0;34m:\u001b[0m\u001b[0;34m\u001b[0m\u001b[0;34m\u001b[0m\u001b[0m\n\u001b[0;32m--> 408\u001b[0;31m     \u001b[0;32mreturn\u001b[0m \u001b[0mcall\u001b[0m\u001b[0;34m.\u001b[0m\u001b[0mexecute\u001b[0m\u001b[0;34m(\u001b[0m\u001b[0mnum_retries\u001b[0m\u001b[0;34m=\u001b[0m\u001b[0mnum_retries\u001b[0m\u001b[0;34m)\u001b[0m\u001b[0;34m\u001b[0m\u001b[0;34m\u001b[0m\u001b[0m\n\u001b[0m\u001b[1;32m    409\u001b[0m   \u001b[0;32mexcept\u001b[0m \u001b[0mgoogleapiclient\u001b[0m\u001b[0;34m.\u001b[0m\u001b[0merrors\u001b[0m\u001b[0;34m.\u001b[0m\u001b[0mHttpError\u001b[0m \u001b[0;32mas\u001b[0m \u001b[0me\u001b[0m\u001b[0;34m:\u001b[0m\u001b[0;34m\u001b[0m\u001b[0;34m\u001b[0m\u001b[0m\n",
            "\u001b[0;32m/usr/local/lib/python3.12/dist-packages/googleapiclient/_helpers.py\u001b[0m in \u001b[0;36mpositional_wrapper\u001b[0;34m(*args, **kwargs)\u001b[0m\n\u001b[1;32m    129\u001b[0m                     \u001b[0mlogger\u001b[0m\u001b[0;34m.\u001b[0m\u001b[0mwarning\u001b[0m\u001b[0;34m(\u001b[0m\u001b[0mmessage\u001b[0m\u001b[0;34m)\u001b[0m\u001b[0;34m\u001b[0m\u001b[0;34m\u001b[0m\u001b[0m\n\u001b[0;32m--> 130\u001b[0;31m             \u001b[0;32mreturn\u001b[0m \u001b[0mwrapped\u001b[0m\u001b[0;34m(\u001b[0m\u001b[0;34m*\u001b[0m\u001b[0margs\u001b[0m\u001b[0;34m,\u001b[0m \u001b[0;34m**\u001b[0m\u001b[0mkwargs\u001b[0m\u001b[0;34m)\u001b[0m\u001b[0;34m\u001b[0m\u001b[0;34m\u001b[0m\u001b[0m\n\u001b[0m\u001b[1;32m    131\u001b[0m \u001b[0;34m\u001b[0m\u001b[0m\n",
            "\u001b[0;32m/usr/local/lib/python3.12/dist-packages/googleapiclient/http.py\u001b[0m in \u001b[0;36mexecute\u001b[0;34m(self, http, num_retries)\u001b[0m\n\u001b[1;32m    937\u001b[0m         \u001b[0;32mif\u001b[0m \u001b[0mresp\u001b[0m\u001b[0;34m.\u001b[0m\u001b[0mstatus\u001b[0m \u001b[0;34m>=\u001b[0m \u001b[0;36m300\u001b[0m\u001b[0;34m:\u001b[0m\u001b[0;34m\u001b[0m\u001b[0;34m\u001b[0m\u001b[0m\n\u001b[0;32m--> 938\u001b[0;31m             \u001b[0;32mraise\u001b[0m \u001b[0mHttpError\u001b[0m\u001b[0;34m(\u001b[0m\u001b[0mresp\u001b[0m\u001b[0;34m,\u001b[0m \u001b[0mcontent\u001b[0m\u001b[0;34m,\u001b[0m \u001b[0muri\u001b[0m\u001b[0;34m=\u001b[0m\u001b[0mself\u001b[0m\u001b[0;34m.\u001b[0m\u001b[0muri\u001b[0m\u001b[0;34m)\u001b[0m\u001b[0;34m\u001b[0m\u001b[0;34m\u001b[0m\u001b[0m\n\u001b[0m\u001b[1;32m    939\u001b[0m         \u001b[0;32mreturn\u001b[0m \u001b[0mself\u001b[0m\u001b[0;34m.\u001b[0m\u001b[0mpostproc\u001b[0m\u001b[0;34m(\u001b[0m\u001b[0mresp\u001b[0m\u001b[0;34m,\u001b[0m \u001b[0mcontent\u001b[0m\u001b[0;34m)\u001b[0m\u001b[0;34m\u001b[0m\u001b[0;34m\u001b[0m\u001b[0m\n",
            "\u001b[0;31mHttpError\u001b[0m: <HttpError 400 when requesting https://earthengine.googleapis.com/v1/projects/ee-sakda-451407/value:compute?prettyPrint=false&alt=json returned \"reduce.mean: Error in map(ID=2022_02_09):\nImage.select: Parameter 'input' is required and may not be null.\". Details: \"reduce.mean: Error in map(ID=2022_02_09):\nImage.select: Parameter 'input' is required and may not be null.\">",
            "\nDuring handling of the above exception, another exception occurred:\n",
            "\u001b[0;31mEEException\u001b[0m                               Traceback (most recent call last)",
            "\u001b[0;32m/tmp/ipython-input-2175872177.py\u001b[0m in \u001b[0;36m<cell line: 0>\u001b[0;34m()\u001b[0m\n\u001b[1;32m     32\u001b[0m     \u001b[0;32mif\u001b[0m \u001b[0mfeatures_arr\u001b[0m \u001b[0;32mand\u001b[0m \u001b[0mhotspot_arr\u001b[0m\u001b[0;34m:\u001b[0m\u001b[0;34m\u001b[0m\u001b[0;34m\u001b[0m\u001b[0m\n\u001b[1;32m     33\u001b[0m         \u001b[0;31m# เนื่องจากพื้นที่อาจมีขนาดเล็ก เราอาจต้องปรับขนาดข้อมูล\u001b[0m\u001b[0;34m\u001b[0m\u001b[0;34m\u001b[0m\u001b[0m\n\u001b[0;32m---> 34\u001b[0;31m         \u001b[0mtraining_data\u001b[0m\u001b[0;34m.\u001b[0m\u001b[0mappend\u001b[0m\u001b[0;34m(\u001b[0m\u001b[0mfeatures_arr\u001b[0m\u001b[0;34m.\u001b[0m\u001b[0mgetInfo\u001b[0m\u001b[0;34m(\u001b[0m\u001b[0;34m)\u001b[0m\u001b[0;34m)\u001b[0m\u001b[0;34m\u001b[0m\u001b[0;34m\u001b[0m\u001b[0m\n\u001b[0m\u001b[1;32m     35\u001b[0m         \u001b[0mlabels\u001b[0m\u001b[0;34m.\u001b[0m\u001b[0mappend\u001b[0m\u001b[0;34m(\u001b[0m\u001b[0mhotspot_arr\u001b[0m\u001b[0;34m.\u001b[0m\u001b[0mgetInfo\u001b[0m\u001b[0;34m(\u001b[0m\u001b[0;34m)\u001b[0m\u001b[0;34m)\u001b[0m\u001b[0;34m\u001b[0m\u001b[0;34m\u001b[0m\u001b[0m\n\u001b[1;32m     36\u001b[0m \u001b[0;34m\u001b[0m\u001b[0m\n",
            "\u001b[0;32m/usr/local/lib/python3.12/dist-packages/ee/computedobject.py\u001b[0m in \u001b[0;36mgetInfo\u001b[0;34m(self)\u001b[0m\n\u001b[1;32m    105\u001b[0m       \u001b[0mThe\u001b[0m \u001b[0mobject\u001b[0m \u001b[0mcan\u001b[0m \u001b[0mevaluate\u001b[0m \u001b[0mto\u001b[0m \u001b[0manything\u001b[0m\u001b[0;34m.\u001b[0m\u001b[0;34m\u001b[0m\u001b[0;34m\u001b[0m\u001b[0m\n\u001b[1;32m    106\u001b[0m     \"\"\"\n\u001b[0;32m--> 107\u001b[0;31m     \u001b[0;32mreturn\u001b[0m \u001b[0mdata\u001b[0m\u001b[0;34m.\u001b[0m\u001b[0mcomputeValue\u001b[0m\u001b[0;34m(\u001b[0m\u001b[0mself\u001b[0m\u001b[0;34m)\u001b[0m\u001b[0;34m\u001b[0m\u001b[0;34m\u001b[0m\u001b[0m\n\u001b[0m\u001b[1;32m    108\u001b[0m \u001b[0;34m\u001b[0m\u001b[0m\n\u001b[1;32m    109\u001b[0m   \u001b[0;32mdef\u001b[0m \u001b[0mencode\u001b[0m\u001b[0;34m(\u001b[0m\u001b[0mself\u001b[0m\u001b[0;34m,\u001b[0m \u001b[0mencoder\u001b[0m\u001b[0;34m:\u001b[0m \u001b[0mOptional\u001b[0m\u001b[0;34m[\u001b[0m\u001b[0mCallable\u001b[0m\u001b[0;34m[\u001b[0m\u001b[0;34m...\u001b[0m\u001b[0;34m,\u001b[0m \u001b[0mAny\u001b[0m\u001b[0;34m]\u001b[0m\u001b[0;34m]\u001b[0m\u001b[0;34m)\u001b[0m \u001b[0;34m->\u001b[0m \u001b[0mdict\u001b[0m\u001b[0;34m[\u001b[0m\u001b[0mstr\u001b[0m\u001b[0;34m,\u001b[0m \u001b[0mAny\u001b[0m\u001b[0;34m]\u001b[0m\u001b[0;34m:\u001b[0m\u001b[0;34m\u001b[0m\u001b[0;34m\u001b[0m\u001b[0m\n",
            "\u001b[0;32m/usr/local/lib/python3.12/dist-packages/ee/data.py\u001b[0m in \u001b[0;36mcomputeValue\u001b[0;34m(obj)\u001b[0m\n\u001b[1;32m   1126\u001b[0m   \u001b[0m_maybe_populate_workload_tag\u001b[0m\u001b[0;34m(\u001b[0m\u001b[0mbody\u001b[0m\u001b[0;34m)\u001b[0m\u001b[0;34m\u001b[0m\u001b[0;34m\u001b[0m\u001b[0m\n\u001b[1;32m   1127\u001b[0m \u001b[0;34m\u001b[0m\u001b[0m\n\u001b[0;32m-> 1128\u001b[0;31m   return _execute_cloud_call(\n\u001b[0m\u001b[1;32m   1129\u001b[0m       \u001b[0m_get_cloud_projects\u001b[0m\u001b[0;34m(\u001b[0m\u001b[0;34m)\u001b[0m\u001b[0;34m\u001b[0m\u001b[0;34m\u001b[0m\u001b[0m\n\u001b[1;32m   1130\u001b[0m       \u001b[0;34m.\u001b[0m\u001b[0mvalue\u001b[0m\u001b[0;34m(\u001b[0m\u001b[0;34m)\u001b[0m\u001b[0;34m\u001b[0m\u001b[0;34m\u001b[0m\u001b[0m\n",
            "\u001b[0;32m/usr/local/lib/python3.12/dist-packages/ee/data.py\u001b[0m in \u001b[0;36m_execute_cloud_call\u001b[0;34m(call, num_retries)\u001b[0m\n\u001b[1;32m    408\u001b[0m     \u001b[0;32mreturn\u001b[0m \u001b[0mcall\u001b[0m\u001b[0;34m.\u001b[0m\u001b[0mexecute\u001b[0m\u001b[0;34m(\u001b[0m\u001b[0mnum_retries\u001b[0m\u001b[0;34m=\u001b[0m\u001b[0mnum_retries\u001b[0m\u001b[0;34m)\u001b[0m\u001b[0;34m\u001b[0m\u001b[0;34m\u001b[0m\u001b[0m\n\u001b[1;32m    409\u001b[0m   \u001b[0;32mexcept\u001b[0m \u001b[0mgoogleapiclient\u001b[0m\u001b[0;34m.\u001b[0m\u001b[0merrors\u001b[0m\u001b[0;34m.\u001b[0m\u001b[0mHttpError\u001b[0m \u001b[0;32mas\u001b[0m \u001b[0me\u001b[0m\u001b[0;34m:\u001b[0m\u001b[0;34m\u001b[0m\u001b[0;34m\u001b[0m\u001b[0m\n\u001b[0;32m--> 410\u001b[0;31m     \u001b[0;32mraise\u001b[0m \u001b[0m_translate_cloud_exception\u001b[0m\u001b[0;34m(\u001b[0m\u001b[0me\u001b[0m\u001b[0;34m)\u001b[0m  \u001b[0;31m# pylint: disable=raise-missing-from\u001b[0m\u001b[0;34m\u001b[0m\u001b[0;34m\u001b[0m\u001b[0m\n\u001b[0m\u001b[1;32m    411\u001b[0m \u001b[0;34m\u001b[0m\u001b[0m\n\u001b[1;32m    412\u001b[0m \u001b[0;34m\u001b[0m\u001b[0m\n",
            "\u001b[0;31mEEException\u001b[0m: reduce.mean: Error in map(ID=2022_02_09):\nImage.select: Parameter 'input' is required and may not be null."
          ]
        }
      ]
    },
    {
      "cell_type": "code",
      "source": [
        "# กำหนดขนาด input\n",
        "n_timesteps, n_rows, n_cols, n_channels = X_train.shape[1], X_train.shape[2], X_train.shape[3], X_train.shape[4]\n",
        "\n",
        "# สร้างแบบจำลอง CNN-LSTM\n",
        "model = Sequential()\n",
        "\n",
        "# CNN layers สำหรับสกัดคุณลักษณะเชิงพื้นที่\n",
        "model.add(TimeDistributed(Conv2D(32, (3, 3), activation='relu', padding='same'),\n",
        "                         input_shape=(n_timesteps, n_rows, n_cols, n_channels)))\n",
        "model.add(TimeDistributed(MaxPooling2D((2, 2))))\n",
        "model.add(TimeDistributed(Conv2D(64, (3, 3), activation='relu', padding='same')))\n",
        "model.add(TimeDistributed(MaxPooling2D((2, 2))))\n",
        "model.add(TimeDistributed(Conv2D(128, (3, 3), activation='relu', padding='same')))\n",
        "model.add(TimeDistributed(MaxPooling2D((2, 2))))\n",
        "model.add(TimeDistributed(Flatten()))\n",
        "\n",
        "# LSTM layers สำหรับเรียนรู้รูปแบบเชิงเวลา\n",
        "model.add(LSTM(128, return_sequences=True))\n",
        "model.add(LSTM(64))\n",
        "\n",
        "# Fully connected layers\n",
        "model.add(Dense(64, activation='relu'))\n",
        "model.add(Dense(1, activation='sigmoid'))  # binary classification\n",
        "\n",
        "# compile model\n",
        "model.compile(optimizer='adam', loss='binary_crossentropy', metrics=['accuracy'])\n",
        "\n",
        "# แสดงโครงสร้างแบบจำลอง\n",
        "model.summary()"
      ],
      "metadata": {
        "id": "hab3ghQANbib"
      },
      "execution_count": null,
      "outputs": []
    },
    {
      "cell_type": "code",
      "source": [
        "# ฝึกแบบจำลอง\n",
        "history = model.fit(X_train, y_train,\n",
        "                   epochs=50,\n",
        "                   batch_size=16,\n",
        "                   validation_data=(X_test, y_test),\n",
        "                   verbose=1)\n",
        "\n",
        "# ประเมินแบบจำลอง\n",
        "y_pred_prob = model.predict(X_test)\n",
        "y_pred = (y_pred_prob > 0.5).astype(int)\n",
        "\n",
        "# คำนวณ metrics\n",
        "accuracy = accuracy_score(y_test.flatten(), y_pred.flatten())\n",
        "precision = precision_score(y_test.flatten(), y_pred.flatten())\n",
        "recall = recall_score(y_test.flatten(), y_pred.flatten())\n",
        "f1 = f1_score(y_test.flatten(), y_pred.flatten())\n",
        "conf_matrix = confusion_matrix(y_test.flatten(), y_pred.flatten())\n",
        "\n",
        "print(f\"Accuracy: {accuracy:.4f}\")\n",
        "print(f\"Precision: {precision:.4f}\")\n",
        "print(f\"Recall: {recall:.4f}\")\n",
        "print(f\"F1-Score: {f1:.4f}\")\n",
        "print(\"Confusion Matrix:\")\n",
        "print(conf_matrix)\n",
        "\n",
        "# พล็อตการเรียนรู้\n",
        "plt.figure(figsize=(12, 4))\n",
        "plt.subplot(1, 2, 1)\n",
        "plt.plot(history.history['loss'], label='Training Loss')\n",
        "plt.plot(history.history['val_loss'], label='Validation Loss')\n",
        "plt.title('Model Loss')\n",
        "plt.xlabel('Epoch')\n",
        "plt.ylabel('Loss')\n",
        "plt.legend()\n",
        "\n",
        "plt.subplot(1, 2, 2)\n",
        "plt.plot(history.history['accuracy'], label='Training Accuracy')\n",
        "plt.plot(history.history['val_accuracy'], label='Validation Accuracy')\n",
        "plt.title('Model Accuracy')\n",
        "plt.xlabel('Epoch')\n",
        "plt.ylabel('Accuracy')\n",
        "plt.legend()\n",
        "plt.show()"
      ],
      "metadata": {
        "id": "nrwlc4DKNdRn"
      },
      "execution_count": null,
      "outputs": []
    },
    {
      "cell_type": "code",
      "source": [
        "# ดึงข้อมูลล่าสุดสำหรับการทำนาย\n",
        "latest_data = X[-time_steps:]  # ใช้ข้อมูล time_steps สัปดาห์ล่าสุด\n",
        "latest_data = latest_data.reshape(1, time_steps, n_rows, n_cols, n_channels)\n",
        "\n",
        "# ทำนาย\n",
        "prediction = model.predict(latest_data)\n",
        "hotspot_prediction = (prediction > 0.5).astype(int)\n",
        "\n",
        "# สร้าง raster จากผลการทำนาย\n",
        "def array_to_raster(array, transform, crs='EPSG:4326'):\n",
        "    \"\"\"แปลง numpy array เป็น raster\"\"\"\n",
        "    from rasterio.transform import from_origin\n",
        "    import rasterio\n",
        "\n",
        "    # สร้าง transform จากข้อมูลพื้นที่\n",
        "    # ควรปรับค่าเหล่านี้ตามพื้นที่จริง\n",
        "    transform = from_origin(roi.getInfo()['coordinates'][0][0][0],\n",
        "                           roi.getInfo()['coordinates'][0][0][1],\n",
        "                           scale, scale)\n",
        "\n",
        "    with rasterio.open('prediction.tif', 'w',\n",
        "                       driver='GTiff',\n",
        "                       height=array.shape[0],\n",
        "                       width=array.shape[1],\n",
        "                       count=1,\n",
        "                       dtype=rasterio.uint8,\n",
        "                       crs=crs,\n",
        "                       transform=transform) as dst:\n",
        "        dst.write(array.astype(rasterio.uint8), 1)\n",
        "\n",
        "# บันทึกผลการทำนายเป็น raster\n",
        "array_to_raster(hotspot_prediction[0, :, :, 0], None)"
      ],
      "metadata": {
        "id": "uyH0ZeBrNfG0"
      },
      "execution_count": null,
      "outputs": []
    },
    {
      "cell_type": "code",
      "source": [
        "# สร้างแผนที่ Folium\n",
        "m = folium.Map(location=[18.78, 98.95], zoom_start=12)  # ควรปรับตำแหน่งให้ตรงกับพื้นที่ศึกษา\n",
        "\n",
        "# เพิ่มผลการทำนายลงบนแผนที่\n",
        "prediction_layer = folium.raster_layers.TileLayer(\n",
        "    tiles='prediction.tif',\n",
        "    name='Hotspot Prediction',\n",
        "    opacity=0.7,\n",
        "    attr='Hotspot Prediction'\n",
        ")\n",
        "prediction_layer.add_to(m)\n",
        "\n",
        "# เพิ่ม layer control\n",
        "folium.LayerControl().add_to(m)\n",
        "\n",
        "# บันทึกแผนที่\n",
        "m.save('hotspot_prediction_map.html')\n",
        "\n",
        "# แสดงแผนที่\n",
        "m"
      ],
      "metadata": {
        "id": "1mdWvWk3Nhbf"
      },
      "execution_count": null,
      "outputs": []
    },
    {
      "cell_type": "code",
      "source": [
        "# บันทึกแบบจำลอง\n",
        "model.save('hotspot_cnn_lstm_model.h5')\n",
        "\n",
        "# โหลดแบบจำลองที่ฝึกไว้\n",
        "from tensorflow.keras.models import load_model\n",
        "loaded_model = load_model('hotspot_cnn_lstm_model.h5')"
      ],
      "metadata": {
        "id": "qlaGBQ_XNjRv"
      },
      "execution_count": null,
      "outputs": []
    }
  ]
}