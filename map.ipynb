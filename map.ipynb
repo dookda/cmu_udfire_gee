{
 "cells": [
  {
   "cell_type": "code",
   "execution_count": 1,
   "id": "37eb3e17",
   "metadata": {},
   "outputs": [],
   "source": [
    "import ee\n",
    "# ใน Google Colab ต้องใช้ ee.Authenticate() แทน earthengine authenticate เพราะ Colab ไม่มี CLI เหมือนเครื่อง Local\n",
    "ee.Authenticate()\n",
    "\n",
    "# ตรวจสอบและเริ่มต้นการเชื่อมต่อ GEE\n",
    "try:\n",
    "    ee.Initialize(project=\"ee-sakda-451407\")\n",
    "except Exception as e:\n",
    "    ee.Authenticate() # หากยังไม่ได้ยืนยันตัวตน ให้ทำการยืนยัน\n",
    "    ee.Initialize(project=\"ee-sakda-451407\") \n",
    "    "
   ]
  },
  {
   "cell_type": "code",
   "execution_count": null,
   "id": "0389f572",
   "metadata": {},
   "outputs": [],
   "source": [
    "\n",
    "\n"
   ]
  }
 ],
 "metadata": {
  "kernelspec": {
   "display_name": "gee",
   "language": "python",
   "name": "python3"
  },
  "language_info": {
   "codemirror_mode": {
    "name": "ipython",
    "version": 3
   },
   "file_extension": ".py",
   "mimetype": "text/x-python",
   "name": "python",
   "nbconvert_exporter": "python",
   "pygments_lexer": "ipython3",
   "version": "3.12.1"
  }
 },
 "nbformat": 4,
 "nbformat_minor": 5
}
